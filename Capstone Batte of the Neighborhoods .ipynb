{
 "cells": [
  {
   "cell_type": "markdown",
   "metadata": {},
   "source": [
    "Coursera Capstone Project\n",
    "\n",
    "*Itzel Castro*\n",
    "***"
   ]
  },
  {
   "cell_type": "markdown",
   "metadata": {},
   "source": [
    "## Introduction\n",
    "Business Problem: Opening a restaurant\n",
    "In this notebook, I have decided to be explore one personal project: opening a Mexican restaurant in Europe. \n",
    "Evaluation will be carried in the city of Lausanne, in the Vaud Region, Switzerland.\n",
    "This report could be useful to found stakeholders interested in investing on the project.\n",
    "\n",
    "## Data requirements\n",
    "•\tFoursquare API will be used to obtain information about restaurants in the area:\n",
    "o\tNumber \n",
    "o\tType\n",
    "o\tLocation\n",
    "o\tRestaurants will be classified and compared using graphs to evaluate preferences across the population.\n",
    "•\tNeighborhoods in Lausanne region\n",
    "•\tAs in first-place, Mexican population will be targeted as costumers, data about Mexican Immigration in Switzerland maybe useful (if available):\n",
    "o\tMexican students\n",
    "o\tMexican population \n",
    "o\tSearch will be done in Federal Statistical Suisse Office and Statistics Vaud.\n",
    "\n",
    "____\n",
    "*(Yes, I am Mexican, I am not chef or whatsoever but I love our cuisine and after studying in Europe for a couple of years, of course I miss my country and the delicious cuisine, so the crazy dream of my own Mexican restaurant has crossed my mind several times 😉 )*\n",
    "\n",
    "\n"
   ]
  },
  {
   "cell_type": "code",
   "execution_count": null,
   "metadata": {},
   "outputs": [],
   "source": []
  }
 ],
 "metadata": {
  "kernelspec": {
   "display_name": "Python",
   "language": "python",
   "name": "conda-env-python-py"
  },
  "language_info": {
   "codemirror_mode": {
    "name": "ipython",
    "version": 3
   },
   "file_extension": ".py",
   "mimetype": "text/x-python",
   "name": "python",
   "nbconvert_exporter": "python",
   "pygments_lexer": "ipython3",
   "version": "3.6.7"
  }
 },
 "nbformat": 4,
 "nbformat_minor": 4
}
